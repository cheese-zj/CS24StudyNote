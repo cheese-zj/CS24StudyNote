{
 "cells": [
  {
   "cell_type": "markdown",
   "metadata": {},
   "source": [
    "# 集合推导式"
   ]
  },
  {
   "cell_type": "markdown",
   "metadata": {},
   "source": [
    "* 列表推导式"
   ]
  },
  {
   "cell_type": "code",
   "execution_count": 23,
   "metadata": {
    "collapsed": false
   },
   "outputs": [
    {
     "name": "stdout",
     "output_type": "stream",
     "text": [
      "1000 loops, best of 3: 854 µs per loop\n"
     ]
    }
   ],
   "source": [
    "%%timeit\n",
    "#普通方法\n",
    "result1 = []\n",
    "for i in range(10000):\n",
    "    if i%2 == 0:\n",
    "        result1.append(i)"
   ]
  },
  {
   "cell_type": "code",
   "execution_count": 24,
   "metadata": {
    "collapsed": false
   },
   "outputs": [
    {
     "name": "stdout",
     "output_type": "stream",
     "text": [
      "1000 loops, best of 3: 627 µs per loop\n"
     ]
    }
   ],
   "source": [
    "%%timeit\n",
    "#列表推导式方法\n",
    "result2 = [i for i in range(10000) if i%2 == 0]"
   ]
  },
  {
   "cell_type": "code",
   "execution_count": 25,
   "metadata": {
    "collapsed": false
   },
   "outputs": [
    {
     "name": "stdout",
     "output_type": "stream",
     "text": [
      "['WELCOME', 'PYTHON', 'ANALYSIS', 'COURSE']\n"
     ]
    }
   ],
   "source": [
    "str_lst = ['Welcome', 'to', 'Python', 'Data', 'Analysis', 'Course']\n",
    "result3 = [x.upper() for x in str_lst if len(x) > 4]\n",
    "print result3"
   ]
  },
  {
   "cell_type": "markdown",
   "metadata": {},
   "source": [
    "* 字典推导式"
   ]
  },
  {
   "cell_type": "code",
   "execution_count": 21,
   "metadata": {
    "collapsed": false
   },
   "outputs": [
    {
     "name": "stdout",
     "output_type": "stream",
     "text": [
      "{0: 9, 1: 8, 2: 7, 3: 6, 4: 5, 5: 4, 6: 3, 7: 2, 8: 1, 9: 0}\n"
     ]
    }
   ],
   "source": [
    "dict1 = {key : value for key, value in enumerate(reversed(range(10)))}\n",
    "print dict1"
   ]
  },
  {
   "cell_type": "markdown",
   "metadata": {},
   "source": [
    "* 集合推导式"
   ]
  },
  {
   "cell_type": "code",
   "execution_count": 22,
   "metadata": {
    "collapsed": false
   },
   "outputs": [
    {
     "name": "stdout",
     "output_type": "stream",
     "text": [
      "set([0, 1, 2, 3, 4, 5, 6, 7, 8, 9])\n"
     ]
    }
   ],
   "source": [
    "set1 = {i for i in range(10)}\n",
    "print set1"
   ]
  },
  {
   "cell_type": "markdown",
   "metadata": {},
   "source": [
    "* 嵌套推导式"
   ]
  },
  {
   "cell_type": "code",
   "execution_count": 30,
   "metadata": {
    "collapsed": false
   },
   "outputs": [
    {
     "name": "stdout",
     "output_type": "stream",
     "text": [
      "[[0, 1, 2, 3, 4, 5, 6, 7, 8, 9], [10, 11, 12, 13, 14, 15, 16, 17, 18, 19]]\n"
     ]
    }
   ],
   "source": [
    "lists = [range(10), range(10, 20)]\n",
    "print lists"
   ]
  },
  {
   "cell_type": "code",
   "execution_count": 31,
   "metadata": {
    "collapsed": false
   },
   "outputs": [
    {
     "name": "stdout",
     "output_type": "stream",
     "text": [
      "[0, 2, 4, 6, 8, 10, 12, 14, 16, 18]\n"
     ]
    }
   ],
   "source": [
    "evens = [item for lst in lists for item in lst if item % 2 == 0]\n",
    "print evens"
   ]
  },
  {
   "cell_type": "markdown",
   "metadata": {},
   "source": [
    "# 多函数模式"
   ]
  },
  {
   "cell_type": "code",
   "execution_count": 32,
   "metadata": {
    "collapsed": false
   },
   "outputs": [
    {
     "name": "stdout",
     "output_type": "stream",
     "text": [
      "['1.123', '1123.454', '899.12312']\n"
     ]
    }
   ],
   "source": [
    "# 处理字符串\n",
    "str_lst = ['$1.123', ' $1123.454', '$899.12312']\n",
    "\n",
    "def remove_space(str):\n",
    "    \"\"\"\n",
    "        remove space\n",
    "    \"\"\"\n",
    "    str_no_space = str.replace(' ', '')\n",
    "    return str_no_space\n",
    "\n",
    "def remove_dollar(str):\n",
    "    \"\"\"\n",
    "        remove $\n",
    "    \"\"\"\n",
    "    if '$' in str:\n",
    "        return str.replace('$', '')\n",
    "    else:\n",
    "        return str\n",
    "\n",
    "def clean_str_lst(str_lst, operations):\n",
    "    \"\"\"\n",
    "        clean string list\n",
    "    \"\"\"\n",
    "    result = []\n",
    "    for item in str_lst:\n",
    "        for op in operations:\n",
    "            item = op(item)\n",
    "        result.append(item)\n",
    "    return result\n",
    "\n",
    "clean_operations = [remove_space, remove_dollar]\n",
    "result = clean_str_lst(str_lst, clean_operations)\n",
    "print result\n",
    "    "
   ]
  },
  {
   "cell_type": "markdown",
   "metadata": {},
   "source": [
    "# 匿名函数 lambda"
   ]
  },
  {
   "cell_type": "code",
   "execution_count": 36,
   "metadata": {
    "collapsed": false
   },
   "outputs": [
    {
     "data": {
      "text/plain": [
       "4"
      ]
     },
     "execution_count": 36,
     "metadata": {},
     "output_type": "execute_result"
    }
   ],
   "source": [
    "f = lambda x:x**2\n",
    "f(2)"
   ]
  },
  {
   "cell_type": "code",
   "execution_count": 42,
   "metadata": {
    "collapsed": false
   },
   "outputs": [
    {
     "name": "stdout",
     "output_type": "stream",
     "text": [
      "['to', 'Data', 'Python', 'Course', 'Welcome', 'Analysis']\n",
      "['Data', 'Course', 'Welcome', 'Python', 'to', 'Analysis']\n"
     ]
    }
   ],
   "source": [
    "str_lst = ['Welcome', 'to', 'Python', 'Data', 'Analysis', 'Course']\n",
    "str_lst.sort(key=lambda x:len(x)) # sort by length\n",
    "print str_lst\n",
    "\n",
    "str_lst.sort(key=lambda x:x[-1]) # sort by the last letter\n",
    "print str_lst"
   ]
  },
  {
   "cell_type": "markdown",
   "metadata": {},
   "source": [
    "# 生成器 generator"
   ]
  },
  {
   "cell_type": "code",
   "execution_count": 54,
   "metadata": {
    "collapsed": false
   },
   "outputs": [
    {
     "data": {
      "text/plain": [
       "generator"
      ]
     },
     "execution_count": 54,
     "metadata": {},
     "output_type": "execute_result"
    }
   ],
   "source": [
    "def gen_test():\n",
    "    for i in range(3):\n",
    "        yield i\n",
    "        \n",
    "gen = gen_test() #此时不执行生成器\n",
    "type(gen)"
   ]
  },
  {
   "cell_type": "code",
   "execution_count": 55,
   "metadata": {
    "collapsed": false
   },
   "outputs": [
    {
     "name": "stdout",
     "output_type": "stream",
     "text": [
      "0\n",
      "1\n",
      "2\n"
     ]
    }
   ],
   "source": [
    "for i in gen: # 直到迭代时才执行\n",
    "    print i"
   ]
  },
  {
   "cell_type": "code",
   "execution_count": null,
   "metadata": {
    "collapsed": true
   },
   "outputs": [],
   "source": []
  }
 ],
 "metadata": {
  "kernelspec": {
   "display_name": "Python [conda root]",
   "language": "python",
   "name": "conda-root-py"
  },
  "language_info": {
   "codemirror_mode": {
    "name": "ipython",
    "version": 2
   },
   "file_extension": ".py",
   "mimetype": "text/x-python",
   "name": "python",
   "nbconvert_exporter": "python",
   "pygments_lexer": "ipython2",
   "version": "2.7.12"
  }
 },
 "nbformat": 4,
 "nbformat_minor": 1
}
