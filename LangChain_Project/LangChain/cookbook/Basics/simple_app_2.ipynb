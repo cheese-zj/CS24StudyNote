{
 "cells": [
  {
   "cell_type": "markdown",
   "id": "9dbcc54a-7fc5-4932-aa47-2c80fb6785f0",
   "metadata": {},
   "source": [
    "# 简单应用 2\n",
    "\n",
    "__链式结构__: 方便连接多个`llm`模块 \n",
    "\n",
    "__Prompt 提示词__: 避免重复定义功能相似的`llm`模块"
   ]
  },
  {
   "cell_type": "code",
   "execution_count": 18,
   "id": "6cc2964e-b70e-4778-a6f5-59d9347c23c7",
   "metadata": {},
   "outputs": [],
   "source": [
    "# 初始化llm模块\n",
    "from langchain.llms import OpenAI\n",
    "llm = OpenAI()"
   ]
  },
  {
   "cell_type": "markdown",
   "id": "c5cce02a-a2c1-4a95-8671-0c9d10a4bad4",
   "metadata": {},
   "source": [
    "##### 对象类型：`PromptTemplate` "
   ]
  },
  {
   "cell_type": "code",
   "execution_count": 1,
   "id": "6312fb09-8a5f-40b5-81df-ca0bc2930e33",
   "metadata": {},
   "outputs": [
    {
     "data": {
      "text/plain": [
       "'给我一个喜欢加菲猫的,缺钱的开发人员的名字,三个字以内'"
      ]
     },
     "execution_count": 1,
     "metadata": {},
     "output_type": "execute_result"
    }
   ],
   "source": [
    "from langchain.prompts import PromptTemplate\n",
    "\n",
    "prompt = PromptTemplate.from_template(\"给我一个喜欢{animal}的,缺钱的开发人员的名字,三个字以内\")\n",
    "prompt.format(animal=\"加菲猫\")\n",
    "#out '给我一个喜欢加菲猫的,缺钱的开发人员的名字,三个字以内'"
   ]
  },
  {
   "cell_type": "markdown",
   "id": "4e204a4b-9688-4410-978e-0dc29ff79b71",
   "metadata": {},
   "source": [
    "##### 对象类型：`LLMChain` \n",
    "包括\n",
    "- `llm` 语言模型\n",
    "- `prompt` 提示词模版\n",
    "- `chain.run(\"\"鲨鱼\"\")` 运行\n",
    "\n",
    "\"鲨鱼\" -> `prompt` -> \"给我一个喜欢{animal}的,缺钱的开发人员的名字,三个字以内\" -> `llm` -> `鲨菲财`\n"
   ]
  },
  {
   "cell_type": "code",
   "execution_count": 11,
   "id": "2d896e08-d250-4456-a066-6224df3af6c1",
   "metadata": {},
   "outputs": [],
   "source": [
    "from langchain.chains import LLMChain\n",
    "\n",
    "chain = LLMChain(llm=llm,prompt=prompt)"
   ]
  },
  {
   "cell_type": "code",
   "execution_count": 16,
   "id": "0b6179dd-0732-4b08-b81c-8ff93d0e175a",
   "metadata": {},
   "outputs": [
    {
     "data": {
      "text/plain": [
       "'\\n\\n鲨菲财 '"
      ]
     },
     "execution_count": 16,
     "metadata": {},
     "output_type": "execute_result"
    }
   ],
   "source": [
    "chain.run(\"鲨鱼\")\n",
    "# some random names like \"钱鲨人\" \"鲨鱼钱包\" \"鲨鱼钱仔\" \"鲨菲财\""
   ]
  }
 ],
 "metadata": {
  "kernelspec": {
   "display_name": "Python 3 (ipykernel)",
   "language": "python",
   "name": "python3"
  },
  "language_info": {
   "codemirror_mode": {
    "name": "ipython",
    "version": 3
   },
   "file_extension": ".py",
   "mimetype": "text/x-python",
   "name": "python",
   "nbconvert_exporter": "python",
   "pygments_lexer": "ipython3",
   "version": "3.11.2"
  }
 },
 "nbformat": 4,
 "nbformat_minor": 5
}
