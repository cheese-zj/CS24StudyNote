{
 "cells": [
  {
   "cell_type": "markdown",
   "id": "5ed7e112-dff6-404f-81fa-0a64d3579931",
   "metadata": {},
   "source": [
    "# 简单应用 1\n",
    "__使用llm(large language model)来产生文本__"
   ]
  },
  {
   "cell_type": "markdown",
   "id": "23f67e1b-cf23-43eb-a36b-b97605796263",
   "metadata": {
    "jp-MarkdownHeadingCollapsed": true
   },
   "source": [
    "### 设置环境变量\n",
    "```shell\n",
    "export OPENAI_API_KEY=\"...\"\n",
    "```\n",
    "or\n",
    "```python\n",
    "from langchain.chat_models import ChatOpenAI\n",
    "\n",
    "llm = ChatOpenAI(openai_api_key=\"...\")\n",
    "```\n",
    "\n",
    "use `printenv` to check environment variables."
   ]
  },
  {
   "cell_type": "markdown",
   "id": "f56be786-352d-4a19-8bc6-ecd358d034f3",
   "metadata": {},
   "source": [
    "### 基础llm模块\n",
    "#### 对象类型:`OpenAI()`\n",
    "方法: `predict` \n",
    "\n",
    "根据输入的文本产生新的文本"
   ]
  },
  {
   "cell_type": "code",
   "execution_count": 2,
   "id": "30edf499-c789-43c9-8bb8-75dca4b995a1",
   "metadata": {},
   "outputs": [],
   "source": [
    "from langchain.llms import OpenAI\n",
    "llm = OpenAI()"
   ]
  },
  {
   "cell_type": "markdown",
   "id": "4c025c16-c0a6-425c-bc4d-07267107815f",
   "metadata": {},
   "source": [
    "__temperature__:\n",
    "理解为模型的发散度,`temperature`越大随机性越大,`temperature`为`0`时同一问题的答案是一样的,\n",
    "默认情况下为`0.7`"
   ]
  },
  {
   "cell_type": "code",
   "execution_count": 44,
   "id": "376388cb-ed5e-427f-a3b4-7f6028e833f5",
   "metadata": {},
   "outputs": [
    {
     "data": {
      "text/plain": [
       "'\\n\\n乌钱龟'"
      ]
     },
     "execution_count": 44,
     "metadata": {},
     "output_type": "execute_result"
    }
   ],
   "source": [
    "llm.predict(\"给我一个喜欢乌龟的,缺钱的开发人员的名字,三个字以内\",temperature=0)\n",
    "# out:乌钱龟"
   ]
  },
  {
   "cell_type": "markdown",
   "id": "fba6e41e-8e4b-4763-b40f-3330224dca70",
   "metadata": {},
   "source": [
    "### 基础聊天模块(Chat module)\n",
    "\n",
    "#### 对象类型: `ChatOpenAI()`"
   ]
  },
  {
   "cell_type": "markdown",
   "id": "11a6a63a-2857-417a-8799-6441fe9ac231",
   "metadata": {},
   "source": [
    "__续写对话,与llm模块类似,底层架构还是llm模块__ \n",
    "\n",
    "__用于支持聊天模块的特殊的类__\n",
    "\n",
    "- `HumanMessage` \n",
    "- `AIMessage`\n",
    "- `SystemMessage`\n",
    "\n",
    "__调用方法__\n",
    "\n",
    "- `predict` 使用方式和llm模块一样\n",
    "- `predict_messages`"
   ]
  },
  {
   "cell_type": "markdown",
   "id": "f99fc38e-2f18-4bd3-9563-a47d040fd13c",
   "metadata": {},
   "source": [
    "方法1: 直接使用`predict`调用"
   ]
  },
  {
   "cell_type": "code",
   "execution_count": 4,
   "id": "4f7869a4-cf49-43f9-a256-bfd060d5a273",
   "metadata": {},
   "outputs": [
    {
     "data": {
      "text/plain": [
       "'钱龟人'"
      ]
     },
     "execution_count": 4,
     "metadata": {},
     "output_type": "execute_result"
    }
   ],
   "source": [
    "from langchain.chat_models import ChatOpenAI\n",
    "chat_model = ChatOpenAI()\n",
    "\n",
    "chat_model.predict(\"给我一个喜欢乌龟的,缺钱的开发人员的名字,三个字以内\",temperature=0)\n",
    "\n",
    "#out: 钱龟人 "
   ]
  },
  {
   "cell_type": "markdown",
   "id": "4ad289c8-860a-4e74-a672-cac841df58bc",
   "metadata": {},
   "source": [
    "方法2:使用`predict_messages`"
   ]
  },
  {
   "cell_type": "code",
   "execution_count": 5,
   "id": "d13a656a-88d1-44f9-9f4a-ad2b5d2be39d",
   "metadata": {},
   "outputs": [
    {
     "data": {
      "text/plain": [
       "AIMessage(content='我是一个语言模型AI，无法提供实时的个人健康咨询。发烧的恢复时间因人而异，取决于发烧的原因和个体的健康状况。通常情况下，轻度发烧可能会在几天内自行缓解，而严重的感染可能需要更长时间来康复。如果你或有人在发烧，请及时咨询医生以获取专业建议和治疗方案。')"
      ]
     },
     "execution_count": 5,
     "metadata": {},
     "output_type": "execute_result"
    }
   ],
   "source": [
    "from langchain.schema import HumanMessage\n",
    "\n",
    "text = \"周皇发烧什么时候好?\"\n",
    "message = [HumanMessage(content=text)]\n",
    "\n",
    "chat_model.predict_messages(message)"
   ]
  },
  {
   "cell_type": "code",
   "execution_count": null,
   "id": "4dbbc2d1-d9b1-4717-8e67-01fd1dc0d117",
   "metadata": {},
   "outputs": [],
   "source": []
  }
 ],
 "metadata": {
  "kernelspec": {
   "display_name": "Python 3 (ipykernel)",
   "language": "python",
   "name": "python3"
  },
  "language_info": {
   "codemirror_mode": {
    "name": "ipython",
    "version": 3
   },
   "file_extension": ".py",
   "mimetype": "text/x-python",
   "name": "python",
   "nbconvert_exporter": "python",
   "pygments_lexer": "ipython3",
   "version": "3.11.2"
  }
 },
 "nbformat": 4,
 "nbformat_minor": 5
}
