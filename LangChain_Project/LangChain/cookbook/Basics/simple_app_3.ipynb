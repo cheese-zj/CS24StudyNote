{
 "cells": [
  {
   "cell_type": "markdown",
   "id": "fd998a6c-6255-40e4-97f1-31e79a7c1c56",
   "metadata": {},
   "source": [
    "# 简单应用 3\n",
    "__代理人 agent__\n",
    "\n",
    "- 作用\n",
    "    + 处理链式模式(`chain`)难以处理的复杂问题\n",
    "    + 动态决策\n",
    "- 本质\n",
    "    + 对于一个任务,运用语言模型来决定任务所需的行为以及实施这些行为的顺序\n",
    "- 行为方式\n",
    "    + 代理人可以使用一系列预设的工具(tools)\n",
    "        * 选择工具\n",
    "        * 使用工具\n",
    "        * 观测并且处理工具使用的结果\n",
    "        * 重复以上步骤"
   ]
  },
  {
   "cell_type": "markdown",
   "id": "a48921a4-9d3b-4da7-86f3-94862f2fdc0c",
   "metadata": {},
   "source": [
    "#### 示例\n",
    "__让代理人可以使用数学计算的功能,从而完成任务__"
   ]
  },
  {
   "cell_type": "code",
   "execution_count": 2,
   "id": "b2dff660-d9a2-4967-b5b7-21e811d081c7",
   "metadata": {},
   "outputs": [],
   "source": [
    "# 初始化llm模块\n",
    "from langchain.llms import OpenAI\n",
    "llm = OpenAI()"
   ]
  },
  {
   "cell_type": "code",
   "execution_count": 4,
   "id": "d792b138-94a7-464e-b6d3-5bb5a277e844",
   "metadata": {},
   "outputs": [],
   "source": [
    "# 定义代理人允许使用的工具\n",
    "from langchain.agents import initialize_agent\n",
    "from langchain.agents import load_tools\n",
    "\n",
    "tools = load_tools([\"llm-math\"],llm=llm)"
   ]
  },
  {
   "cell_type": "code",
   "execution_count": 6,
   "id": "e6b9d5db-8cdd-432d-8720-11fec28a194c",
   "metadata": {},
   "outputs": [],
   "source": [
    "# 初始化代理人\n",
    "from langchain.agents import AgentType\n",
    "agent = initialize_agent(tools, llm, agent=AgentType.ZERO_SHOT_REACT_DESCRIPTION, verbose=True)"
   ]
  },
  {
   "cell_type": "code",
   "execution_count": 16,
   "id": "6285086e-29d3-4083-8202-b2229b9c3849",
   "metadata": {},
   "outputs": [
    {
     "data": {
      "text/plain": [
       "'\\n\\n25的3.5次方是约为952.63。'"
      ]
     },
     "execution_count": 16,
     "metadata": {},
     "output_type": "execute_result"
    }
   ],
   "source": [
    "# 这是个对照,直接使用llm会得到很离谱的结果\n",
    "llm.predict(\"25的3.5次方是多少?\")"
   ]
  },
  {
   "cell_type": "code",
   "execution_count": 15,
   "id": "f35525b9-4085-40aa-8347-2e693ab1cb8e",
   "metadata": {},
   "outputs": [
    {
     "name": "stdout",
     "output_type": "stream",
     "text": [
      "\n",
      "\n",
      "\u001b[1m> Entering new AgentExecutor chain...\u001b[0m\n",
      "\u001b[32;1m\u001b[1;3m I don't know who 恬恬 is\n",
      "Action: I can't answer this question\n",
      "Final Answer: I don't know who 恬恬 is.\u001b[0m\n",
      "\n",
      "\u001b[1m> Finished chain.\u001b[0m\n"
     ]
    },
    {
     "data": {
      "text/plain": [
       "\"I don't know who 恬恬 is.\""
      ]
     },
     "execution_count": 15,
     "metadata": {},
     "output_type": "execute_result"
    }
   ],
   "source": [
    "# 使用agent能得到准确结果\n",
    "agent.run(\"25的3.5次方是多少?\")"
   ]
  },
  {
   "cell_type": "code",
   "execution_count": null,
   "id": "14265030-709f-4e5f-a661-9c549814dfe7",
   "metadata": {},
   "outputs": [],
   "source": []
  }
 ],
 "metadata": {
  "kernelspec": {
   "display_name": "Python 3 (ipykernel)",
   "language": "python",
   "name": "python3"
  },
  "language_info": {
   "codemirror_mode": {
    "name": "ipython",
    "version": 3
   },
   "file_extension": ".py",
   "mimetype": "text/x-python",
   "name": "python",
   "nbconvert_exporter": "python",
   "pygments_lexer": "ipython3",
   "version": "3.11.2"
  }
 },
 "nbformat": 4,
 "nbformat_minor": 5
}
