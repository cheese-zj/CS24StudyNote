{
 "cells": [
  {
   "cell_type": "markdown",
   "id": "abbb15c1-20f4-40df-b88a-0bf49deeb5e0",
   "metadata": {},
   "source": [
    "# 简单应用 4\n",
    "__聊天记录__\n"
   ]
  },
  {
   "cell_type": "markdown",
   "id": "b119491e-70c8-401f-b0b6-f5ea61df9171",
   "metadata": {
    "jp-MarkdownHeadingCollapsed": true
   },
   "source": [
    "#### 对象类型 : `ConversationChain`\n",
    "`基础(Bases)`: `LLMChain` \n",
    "\n",
    "`ConversationChain`: Chain to have a conversation and load context from memory."
   ]
  },
  {
   "cell_type": "code",
   "execution_count": null,
   "id": "9b8eccdc-cab6-41e8-8d9e-ef43ebeec23c",
   "metadata": {},
   "outputs": [],
   "source": [
    "# initialize llm\n",
    "from langchain.llms import OpenAI\n",
    "llm = OpenAI()"
   ]
  },
  {
   "cell_type": "code",
   "execution_count": 3,
   "id": "9a90d38c-6b90-4a52-82ba-d8d954997212",
   "metadata": {},
   "outputs": [],
   "source": [
    "from langchain.chains import ConversationChain\n",
    "\n",
    "conversation = ConversationChain(llm=llm, verbose=True)"
   ]
  },
  {
   "cell_type": "code",
   "execution_count": 4,
   "id": "9fa2d7b1-87fc-4dc3-b82e-fd134fa0e6e3",
   "metadata": {},
   "outputs": [
    {
     "name": "stdout",
     "output_type": "stream",
     "text": [
      "\n",
      "\n",
      "\u001b[1m> Entering new ConversationChain chain...\u001b[0m\n",
      "Prompt after formatting:\n",
      "\u001b[32;1m\u001b[1;3mThe following is a friendly conversation between a human and an AI. The AI is talkative and provides lots of specific details from its context. If the AI does not know the answer to a question, it truthfully says it does not know.\n",
      "\n",
      "Current conversation:\n",
      "\n",
      "Human: 你好呀,我养了一只乌龟\n",
      "AI:\u001b[0m\n",
      "\n",
      "\u001b[1m> Finished chain.\u001b[0m\n"
     ]
    },
    {
     "data": {
      "text/plain": [
       "' 你好，很高兴认识你！关于你养的乌龟，我有一些相关的信息。乌龟是一种爬行动物，它们属于爬行纲，是现存最古老的爬行动物之一。它们通常生活在陆地和水体的交界处，主要以植物为食。乌龟的寿命非常长，有些品种甚至可以活到一百多岁。它们也是非常可爱的宠物，但是需要负责任地照顾哦。你有什么关于乌龟的其他问题吗？'"
      ]
     },
     "execution_count": 4,
     "metadata": {},
     "output_type": "execute_result"
    }
   ],
   "source": [
    "# 第一段对话\n",
    "conversation.run(\"你好呀,我养了一只乌龟\")"
   ]
  },
  {
   "cell_type": "code",
   "execution_count": 5,
   "id": "46f8c04e-0565-4042-acc8-6c67eef2d582",
   "metadata": {},
   "outputs": [
    {
     "name": "stdout",
     "output_type": "stream",
     "text": [
      "\n",
      "\n",
      "\u001b[1m> Entering new ConversationChain chain...\u001b[0m\n",
      "Prompt after formatting:\n",
      "\u001b[32;1m\u001b[1;3mThe following is a friendly conversation between a human and an AI. The AI is talkative and provides lots of specific details from its context. If the AI does not know the answer to a question, it truthfully says it does not know.\n",
      "\n",
      "Current conversation:\n",
      "Human: 你好呀,我养了一只乌龟\n",
      "AI:  你好，很高兴认识你！关于你养的乌龟，我有一些相关的信息。乌龟是一种爬行动物，它们属于爬行纲，是现存最古老的爬行动物之一。它们通常生活在陆地和水体的交界处，主要以植物为食。乌龟的寿命非常长，有些品种甚至可以活到一百多岁。它们也是非常可爱的宠物，但是需要负责任地照顾哦。你有什么关于乌龟的其他问题吗？\n",
      "Human: 可以给它取个名字吗\n",
      "AI:\u001b[0m\n",
      "\n",
      "\u001b[1m> Finished chain.\u001b[0m\n"
     ]
    },
    {
     "data": {
      "text/plain": [
       "' 当然可以！取名字是很有趣的事情。你可以根据它的外貌、性别或者你自己的喜好来命名它。比如说，如果它的外表像一块石头，你可以叫它“石头”；如果是一只雄性乌龟，你可以叫它“大龟爷爷”；或者你可以给它一个独特的名字，比如“莫古”。你有什么想法？'"
      ]
     },
     "execution_count": 5,
     "metadata": {},
     "output_type": "execute_result"
    }
   ],
   "source": [
    "# 第二段对话\n",
    "# 并没有指出 \" 它 \" 是什么,但 ConversationChain会从缓存读取\n",
    "conversation.run(\"可以给它取个名字吗\")"
   ]
  },
  {
   "cell_type": "markdown",
   "id": "9c230806-73e3-4d91-9f95-fb316df771cb",
   "metadata": {
    "jp-MarkdownHeadingCollapsed": true
   },
   "source": [
    "#### `ConversationChain` vs Basic `LLM`"
   ]
  },
  {
   "cell_type": "code",
   "execution_count": 7,
   "id": "7c803d6f-60c4-48e4-830c-31b931c1deb7",
   "metadata": {},
   "outputs": [
    {
     "data": {
      "text/plain": [
       "'.它是一种叫做扁蛇颈龟的品种，它的背部有一个特别扁平的形状，所以叫做扁蛇颈龟。它的壳是深绿色的，上面还有一些黄色的斑点，非常漂亮。它的脖子也特别长，可以伸缩自如，像蛇一样灵活。我每天都会给它喂食，主要是一些蔬菜和水果，它也很喜欢吃小虫子。它的性格很温顺，也很聪明，我喜欢跟它玩耍。虽然它不能说话，但是它的眼睛总是会盯着我，好像在和我交流一样。养乌龟是一件有趣的事情，它让我的生'"
      ]
     },
     "execution_count": 7,
     "metadata": {},
     "output_type": "execute_result"
    }
   ],
   "source": [
    "\n",
    "llm.predict(\"你好呀,我养了一只乌龟\")"
   ]
  },
  {
   "cell_type": "code",
   "execution_count": 8,
   "id": "24359e1e-2c56-481a-8d9d-6986b88a29b6",
   "metadata": {},
   "outputs": [
    {
     "data": {
      "text/plain": [
       "'？\\n是的，可以给它取一个名字作为标识符来表示它。'"
      ]
     },
     "execution_count": 8,
     "metadata": {},
     "output_type": "execute_result"
    }
   ],
   "source": [
    "# 基础llm模块为无法记忆之前的对话\n",
    "llm.predict(\"可以给它取个名字吗\")"
   ]
  },
  {
   "cell_type": "code",
   "execution_count": null,
   "id": "b353c634-aaa6-45ba-9073-cf1cca287bad",
   "metadata": {},
   "outputs": [],
   "source": []
  }
 ],
 "metadata": {
  "kernelspec": {
   "display_name": "Python 3 (ipykernel)",
   "language": "python",
   "name": "python3"
  },
  "language_info": {
   "codemirror_mode": {
    "name": "ipython",
    "version": 3
   },
   "file_extension": ".py",
   "mimetype": "text/x-python",
   "name": "python",
   "nbconvert_exporter": "python",
   "pygments_lexer": "ipython3",
   "version": "3.11.2"
  }
 },
 "nbformat": 4,
 "nbformat_minor": 5
}
