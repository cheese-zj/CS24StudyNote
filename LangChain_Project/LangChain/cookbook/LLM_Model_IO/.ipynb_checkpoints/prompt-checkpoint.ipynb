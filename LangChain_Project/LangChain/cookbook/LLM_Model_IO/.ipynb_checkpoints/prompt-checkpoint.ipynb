{
 "cells": [
  {
   "cell_type": "markdown",
   "id": "938d4d80-0d4f-47d4-ad74-44989e7b4dc1",
   "metadata": {
    "jp-MarkdownHeadingCollapsed": true
   },
   "source": [
    "# Prompt 提示词"
   ]
  },
  {
   "cell_type": "markdown",
   "id": "c1f32a53-1d7c-43f3-b3f9-538e1db888df",
   "metadata": {
    "jp-MarkdownHeadingCollapsed": true
   },
   "source": [
    "### 概念\n",
    "__与语言模型交互的\"编程方式\"__:\n",
    "\n",
    "- `精确的提示` -> `理想的结果`\n",
    "- `冗余的提示` -> `稳定的结果`\n",
    "\n",
    "### PromptTemplate 提示词模版\n",
    "\n",
    "_`LangChain`对于`Prompt`的封装_ \n",
    "\n",
    "对于同一类`Prompt`,可以用`PromptTemplate`封装为接受arguments的模版\n",
    "\n",
    "包括\n",
    "\n",
    "- 对语言模型的指令\n",
    "- 提供简单示例给语言模型从而使模型输出更接近理想结果\n",
    "- 提给语言模型的问题...\n",
    "- ......"
   ]
  },
  {
   "cell_type": "markdown",
   "id": "0c1a29a4-13aa-41fd-9f2c-ecdca28d41e7",
   "metadata": {
    "jp-MarkdownHeadingCollapsed": true
   },
   "source": [
    "### 对象类型: `PromptTemplate`"
   ]
  },
  {
   "cell_type": "code",
   "execution_count": 15,
   "id": "0b2ca719-8bb8-46c9-b1fd-120a1f21ac70",
   "metadata": {},
   "outputs": [],
   "source": [
    "# 初始化llm\n",
    "from langchain.llms import OpenAI\n",
    "llm = OpenAI()"
   ]
  },
  {
   "cell_type": "markdown",
   "id": "f516f41f-733c-4d3e-99e2-8406ae151f6c",
   "metadata": {},
   "source": [
    "#### 参数数量\n",
    "- 无参数(prompt本身)\n",
    "- 单个\n",
    "- 多个"
   ]
  },
  {
   "cell_type": "code",
   "execution_count": 7,
   "id": "c1fccd45-f34b-4f29-b257-234bcb5af9db",
   "metadata": {},
   "outputs": [],
   "source": [
    "from langchain import PromptTemplate\n",
    "#无参数\n",
    "no_input_prompt = PromptTemplate(input_variables= [],template = \"差天气适合干嘛?\")"
   ]
  },
  {
   "cell_type": "code",
   "execution_count": 9,
   "id": "a7ed61a8-e16c-4a1d-94b5-415dd9d78c7e",
   "metadata": {},
   "outputs": [
    {
     "data": {
      "text/plain": [
       "'阴雨的天气适合干嘛?'"
      ]
     },
     "execution_count": 9,
     "metadata": {},
     "output_type": "execute_result"
    }
   ],
   "source": [
    "#单个参数\n",
    "one_input_prompt = PromptTemplate(input_variables= [\"description\"],template = \"{description}天气适合干嘛?\")\n",
    "one_input_prompt.format(description=\"阴雨的\")"
   ]
  },
  {
   "cell_type": "code",
   "execution_count": 11,
   "id": "b755e060-a85b-44fb-becb-80fc3f44714c",
   "metadata": {},
   "outputs": [
    {
     "data": {
      "text/plain": [
       "'晴朗的天气适合睡觉嘛?'"
      ]
     },
     "execution_count": 11,
     "metadata": {},
     "output_type": "execute_result"
    }
   ],
   "source": [
    "#多个参数\n",
    "mul_input_prompt = PromptTemplate(input_variables= [\"description\",\"activity\"],template = \"{description}天气适合{activity}嘛?\")\n",
    "mul_input_prompt.format(description=\"晴朗的\",activity=\"睡觉\")"
   ]
  },
  {
   "cell_type": "markdown",
   "id": "1bae9cf9-6794-4544-a753-a363685330c1",
   "metadata": {
    "jp-MarkdownHeadingCollapsed": true
   },
   "source": [
    "#### 部分参数"
   ]
  },
  {
   "cell_type": "markdown",
   "id": "3eefecc5-a867-44a5-9818-f7094996bdaf",
   "metadata": {
    "jp-MarkdownHeadingCollapsed": true
   },
   "source": [
    "##### 使用场景case1\n",
    "- 所有的参数无法同步获得,在链式结构中传递提示模版时,不需要一次性提供全部参数\n",
    "<img src=\"graphs/partial_argument1.png\" width=\"500\" height=\"400\"/>"
   ]
  },
  {
   "cell_type": "code",
   "execution_count": 20,
   "id": "b7050177-d37f-479f-8c5f-bb0009647a04",
   "metadata": {},
   "outputs": [
    {
     "data": {
      "text/plain": [
       "'告诉我杭州在2020年的平均气温?'"
      ]
     },
     "execution_count": 20,
     "metadata": {},
     "output_type": "execute_result"
    }
   ],
   "source": [
    "prompt = PromptTemplate(input_variables= [\"location\",\"year\"],template = \"告诉我{location}在{year}年的平均气温?\")\n",
    "partial_prompt=prompt.partial(location=\"杭州\") #这是一个新的提示模版\n",
    "partial_prompt.format(year=\"2020\")"
   ]
  },
  {
   "cell_type": "markdown",
   "id": "8df7a86e-63f0-472d-8ee6-95e1e124c0ab",
   "metadata": {
    "jp-MarkdownHeadingCollapsed": true
   },
   "source": [
    "##### 使用场景case2\n",
    "有的参数已知需要特定方法获得\n",
    "<img src=\"graphs/partial_argument2.png\" width=\"500\" height=\"400\"/>"
   ]
  },
  {
   "cell_type": "code",
   "execution_count": 21,
   "id": "c35b7c37-6148-4471-81ee-73da9fe9a27c",
   "metadata": {},
   "outputs": [
    {
     "data": {
      "text/plain": [
       "'告诉我杭州在2023年的平均气温?'"
      ]
     },
     "execution_count": 21,
     "metadata": {},
     "output_type": "execute_result"
    }
   ],
   "source": [
    "import datetime\n",
    "\n",
    "def current_year():\n",
    "    return datetime.datetime.now().year\n",
    "\n",
    "prompt = PromptTemplate(input_variables= [\"location\",\"year\"],template = \"告诉我{location}在{year}年的平均气温?\")\n",
    "partial_prompt=prompt.partial(location=\"杭州\") #这是一个新的提示模版\n",
    "partial_prompt.format(year=current_year())\n"
   ]
  },
  {
   "cell_type": "markdown",
   "id": "20d3d2bf-90cf-48c8-a3aa-5121463bf37c",
   "metadata": {
    "jp-MarkdownHeadingCollapsed": true
   },
   "source": [
    "# 少样本学习(few shot)"
   ]
  },
  {
   "cell_type": "markdown",
   "id": "bf446717-0395-4dbf-9a79-ff7099467342",
   "metadata": {},
   "source": [
    "_通过`少量样本`让语言模型学会处理某类特定问题_ \n",
    "\n",
    "_区分于对语言模型本身的微调(`fine-tuning`)_\n",
    "\n",
    "__例子__\n",
    "```\n",
    "你好吗? 帅哥,你好。\n",
    "你喜欢钓鱼吗? 帅哥,我可太喜欢钓鱼了！\n",
    "你爱吃鱼吗?   ?????\n",
    "#out: 帅哥,我不爱吃鱼!\n",
    "```"
   ]
  },
  {
   "cell_type": "code",
   "execution_count": 16,
   "id": "669f50ec-96eb-461c-bfba-c69f38842404",
   "metadata": {},
   "outputs": [],
   "source": [
    "# 初始化llm\n",
    "from langchain.llms import OpenAI\n",
    "llm = OpenAI()"
   ]
  },
  {
   "cell_type": "markdown",
   "id": "6e28a171-3118-4c8b-8002-82dcb026bdab",
   "metadata": {},
   "source": [
    "### 对象类型 FewShotPromptTemplate"
   ]
  },
  {
   "cell_type": "code",
   "execution_count": 13,
   "id": "62682631-c4cb-4fb8-b062-f1356d27fdc9",
   "metadata": {},
   "outputs": [
    {
     "name": "stdout",
     "output_type": "stream",
     "text": [
      "Question: 你好吗\n",
      "帅哥,你好\n",
      "\n",
      "Question: 你喜欢钓鱼吗?\n",
      "帅哥,我不喜欢钓鱼\n",
      "\n",
      "Question: 你爱吃金枪鱼吗\n"
     ]
    }
   ],
   "source": [
    "from langchain.prompts.few_shot import FewShotPromptTemplate\n",
    "from langchain.prompts.prompt import PromptTemplate\n",
    "\n",
    "examples = [\n",
    "    {\n",
    "        \"question\": \"你好吗\",\n",
    "        \"answer\": \"帅哥,你好\"\n",
    "    },\n",
    "    {\n",
    "        \"question\": \"你喜欢钓鱼吗?\",\n",
    "        \"answer\": \"帅哥,我不喜欢钓鱼\"       \n",
    "    },\n",
    "]\n",
    "\n",
    "example_prompt = PromptTemplate(input_variables= [\"question\",\"answer\"],template = \"Question: {question}\\n{answer}\")\n",
    "prompt = FewShotPromptTemplate(\n",
    "    examples = examples,\n",
    "    example_prompt = example_prompt,\n",
    "    suffix = \"Question: {input}\",\n",
    "    input_variables = [\"input\"]\n",
    ")\n",
    "\n",
    "print(prompt.format(input=\"你爱吃金枪鱼吗\"))"
   ]
  },
  {
   "cell_type": "code",
   "execution_count": 18,
   "id": "f39565fb-0a83-4428-b1e9-c58cf0ab312f",
   "metadata": {},
   "outputs": [
    {
     "data": {
      "text/plain": [
       "'?\\n帅哥,我不太喜欢吃金枪鱼'"
      ]
     },
     "execution_count": 18,
     "metadata": {},
     "output_type": "execute_result"
    }
   ],
   "source": [
    "llm.predict(prompt.format(input=\"你爱吃金枪鱼吗\"))\n",
    "# out: something like 帅哥,我不吃金枪鱼"
   ]
  },
  {
   "cell_type": "markdown",
   "id": "b7663245-f24b-4b24-afec-e205358864d4",
   "metadata": {
    "jp-MarkdownHeadingCollapsed": true
   },
   "source": [
    "# 样本筛选器 ExampleSelector"
   ]
  },
  {
   "cell_type": "markdown",
   "id": "27eb3ab5-5337-4e58-bc35-e836210f4a3b",
   "metadata": {},
   "source": [
    "__为了处理__: \n",
    "\n",
    "- _样本数量多_\n",
    "- _不是所有样本都起到提升输出质量的作用_\n",
    "\n",
    "`SemanticSimilarityExampleSelector`"
   ]
  }
 ],
 "metadata": {
  "kernelspec": {
   "display_name": "Python 3 (ipykernel)",
   "language": "python",
   "name": "python3"
  },
  "language_info": {
   "codemirror_mode": {
    "name": "ipython",
    "version": 3
   },
   "file_extension": ".py",
   "mimetype": "text/x-python",
   "name": "python",
   "nbconvert_exporter": "python",
   "pygments_lexer": "ipython3",
   "version": "3.11.2"
  }
 },
 "nbformat": 4,
 "nbformat_minor": 5
}
