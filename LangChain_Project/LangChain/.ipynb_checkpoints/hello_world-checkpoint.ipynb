{
 "cells": [
  {
   "cell_type": "markdown",
   "id": "5ed7e112-dff6-404f-81fa-0a64d3579931",
   "metadata": {},
   "source": [
    "# Quick Examples\n"
   ]
  },
  {
   "cell_type": "raw",
   "id": "4367f95d-73b1-4bbd-a158-55dfa54a1170",
   "metadata": {},
   "source": []
  },
  {
   "cell_type": "code",
   "execution_count": null,
   "id": "8e67feb6-af7d-4262-9a2b-8d31177a8275",
   "metadata": {},
   "outputs": [],
   "source": []
  }
 ],
 "metadata": {
  "kernelspec": {
   "display_name": "Python 3 (ipykernel)",
   "language": "python",
   "name": "python3"
  },
  "language_info": {
   "codemirror_mode": {
    "name": "ipython",
    "version": 3
   },
   "file_extension": ".py",
   "mimetype": "text/x-python",
   "name": "python",
   "nbconvert_exporter": "python",
   "pygments_lexer": "ipython3",
   "version": "3.11.2"
  }
 },
 "nbformat": 4,
 "nbformat_minor": 5
}
