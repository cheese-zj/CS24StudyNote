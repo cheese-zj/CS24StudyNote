{
 "cells": [
  {
   "attachments": {},
   "cell_type": "markdown",
   "metadata": {},
   "source": [
    "# Problem\n",
    "\n",
    "Imagine we have a collection of client sessions of the form $[s_i, t_i]$, where $s_i$ is the starting time of the session and $t_i$ is the finish time of the session.\n",
    "\n",
    "We want to find out the time t that stabs the maximum number of sessions."
   ]
  },
  {
   "attachments": {},
   "cell_type": "markdown",
   "metadata": {},
   "source": [
    "## Questions\n"
   ]
  },
  {
   "cell_type": "code",
   "execution_count": null,
   "metadata": {},
   "outputs": [],
   "source": [
    "1. What does it mean that t stabs [s_i, t_i]? A: s_i <= t <= t_i\n",
    "2. What if there are multiple answers? A: return any\n",
    "3. What is the format of s_i and t_i? A: unix timestamps (long unsigned int)\n",
    "4. What is the range of values for s_i and t_i? A: No constraint\n",
    "5. How is the input represented? A: list of pairs of ints\n",
    "6. Should we aim for a given time? A: as fast as you can\n",
    "7. Can we assume that s_i < t_i and that you have at least one session? A: yes\n",
    "8. How is the input sorted? A: arbitrary"
   ]
  },
  {
   "cell_type": "code",
   "execution_count": null,
   "metadata": {},
   "outputs": [],
   "source": [
    "def maximum_usage(sessions):\n",
    "    # return time t with maximum number of stabbed sessions\n",
    "\n",
    "    def weight_stabs(sessions, t):\n",
    "\n",
    "        ans = 0\n",
    "        for (a, b, w) in sessions:\n",
    "            if a <= t <= b:\n",
    "                ans += w\n",
    "        \n",
    "        return ans\n",
    "    \n",
    "    # min_start = min(s for (s, _) in sessions)\n",
    "    # max_finish = max(t for (_, t) in sessions)\n",
    "\n",
    "    so_far = 0\n",
    "    ans_far = None\n",
    "    for (t, _) in sessions:\n",
    "        this_one = number_stabs(sessions, t)\n",
    "        if this_one > so_far:\n",
    "            so_far = this_one\n",
    "            ans_far = t\n",
    "    \n",
    "    return ans_far"
   ]
  },
  {
   "cell_type": "code",
   "execution_count": null,
   "metadata": {},
   "outputs": [],
   "source": [
    "def maximum_usage_v2(sessions):\n",
    "\n",
    "    times = []\n",
    "    for (s, t) in sessions:\n",
    "        times.append((s, 1))\n",
    "        times.append((t, -1))\n",
    "    \n",
    "    \"sort times by first coordinate\"\n",
    "\n",
    "    current = 0\n",
    "    so_far = 0\n",
    "    ans_far = None\n",
    "    for (t, v) in times:\n",
    "        current += v\n",
    "        if current > so_far:\n",
    "            so_far = current\n",
    "            ans_far = t\n",
    "    \n",
    "    return ans_far\n",
    "\n",
    "\n"
   ]
  },
  {
   "cell_type": "code",
   "execution_count": null,
   "metadata": {},
   "outputs": [],
   "source": [
    "sessions = [ (1, 2), (2, 3)]\n",
    "\n",
    "times = [ (1, 1), (2, -1), (2, 1), (3, -1) ]"
   ]
  },
  {
   "attachments": {},
   "cell_type": "markdown",
   "metadata": {},
   "source": [
    "# Running time\n",
    "\n",
    "n = |sessions|\n",
    "\n",
    "O( |max_finish - min_start| n )\n",
    "\n",
    "O( n^2 )"
   ]
  },
  {
   "attachments": {},
   "cell_type": "markdown",
   "metadata": {},
   "source": []
  }
 ],
 "metadata": {
  "kernelspec": {
   "display_name": "base",
   "language": "python",
   "name": "python3"
  },
  "language_info": {
   "name": "python",
   "version": "3.9.13"
  },
  "orig_nbformat": 4
 },
 "nbformat": 4,
 "nbformat_minor": 2
}
